{
 "cells": [
  {
   "cell_type": "code",
   "execution_count": 1,
   "metadata": {},
   "outputs": [
    {
     "name": "stdout",
     "output_type": "stream",
     "text": [
      "請輸入姓名judy\n",
      "請輸入國⽂成績90\n",
      "請輸入英⽂成績90\n",
      "姓名         國⽂   英⽂\n",
      "judy          90    90\n"
     ]
    }
   ],
   "source": [
    "name = input(\"請輸入姓名\")\n",
    "chinese_grade = input(\"請輸入國⽂成績\")\n",
    "english_grade = input(\"請輸入英⽂成績\")\n",
    "print(\"{0:8}{1:>5}{2:>5}\" .format(\"姓名\",\"國⽂\",\"英⽂\"))\n",
    "print(\"{0:<10}{1:>6}{2:>6}\" .format(name,chinese_grade,english_grade))"
   ]
  },
  {
   "cell_type": "code",
   "execution_count": 2,
   "metadata": {},
   "outputs": [
    {
     "data": {
      "text/plain": [
       "1"
      ]
     },
     "execution_count": 2,
     "metadata": {},
     "output_type": "execute_result"
    }
   ],
   "source": [
    "8 + 7\n",
    "8 - 7\n",
    "8 * 7\n",
    "8 / 7\n",
    "8 ** 2\n",
    "8 % 7"
   ]
  },
  {
   "cell_type": "code",
   "execution_count": 3,
   "metadata": {},
   "outputs": [
    {
     "name": "stdout",
     "output_type": "stream",
     "text": [
      "10.3\n"
     ]
    }
   ],
   "source": [
    "x = \"5.3\"\n",
    "num = 5 + float(x)\n",
    "print(num)"
   ]
  },
  {
   "cell_type": "code",
   "execution_count": 4,
   "metadata": {},
   "outputs": [
    {
     "name": "stdout",
     "output_type": "stream",
     "text": [
      "10\n"
     ]
    }
   ],
   "source": [
    "x = \"5\"\n",
    "num = 5 + int(x)\n",
    "print(num)"
   ]
  },
  {
   "cell_type": "code",
   "execution_count": 5,
   "metadata": {},
   "outputs": [
    {
     "data": {
      "text/plain": [
       "True"
      ]
     },
     "execution_count": 5,
     "metadata": {},
     "output_type": "execute_result"
    }
   ],
   "source": [
    "8 == 7\n",
    "8 != 7\n",
    "8 > 7\n",
    "8 < 7\n",
    "8 > 7"
   ]
  },
  {
   "cell_type": "code",
   "execution_count": 6,
   "metadata": {},
   "outputs": [
    {
     "data": {
      "text/plain": [
       "False"
      ]
     },
     "execution_count": 6,
     "metadata": {},
     "output_type": "execute_result"
    }
   ],
   "source": [
    "8 < 7"
   ]
  },
  {
   "cell_type": "code",
   "execution_count": 7,
   "metadata": {},
   "outputs": [
    {
     "ename": "SyntaxError",
     "evalue": "Missing parentheses in call to 'print'. Did you mean print(not True)? (<ipython-input-7-c2eae88f5eb4>, line 11)",
     "output_type": "error",
     "traceback": [
      "\u001b[1;36m  File \u001b[1;32m\"<ipython-input-7-c2eae88f5eb4>\"\u001b[1;36m, line \u001b[1;32m11\u001b[0m\n\u001b[1;33m    print not True\u001b[0m\n\u001b[1;37m                 ^\u001b[0m\n\u001b[1;31mSyntaxError\u001b[0m\u001b[1;31m:\u001b[0m Missing parentheses in call to 'print'. Did you mean print(not True)?\n"
     ]
    }
   ],
   "source": [
    "True and True\n",
    "True and False\n",
    "False & True\n",
    "False & False\n",
    "print(\"---\")\n",
    "True or True\n",
    "True or False\n",
    "False | True\n",
    "False | False\n",
    "print(\"---\")\n",
    "print not True\n",
    "print not False"
   ]
  },
  {
   "cell_type": "code",
   "execution_count": 8,
   "metadata": {},
   "outputs": [
    {
     "data": {
      "text/plain": [
       "'I don\\'t think you\\'ll ever be just \"anybody\".'"
      ]
     },
     "execution_count": 8,
     "metadata": {},
     "output_type": "execute_result"
    }
   ],
   "source": [
    "'I don\\'t think you\\'ll ever be just \"anybody\".'\n"
   ]
  },
  {
   "cell_type": "code",
   "execution_count": 9,
   "metadata": {},
   "outputs": [
    {
     "data": {
      "text/plain": [
       "'I don\\'t think you\\'ll ever be just \"anybody\".'"
      ]
     },
     "execution_count": 9,
     "metadata": {},
     "output_type": "execute_result"
    }
   ],
   "source": [
    "\"I don't think you'll ever be just \\\"anybody\\\".\""
   ]
  },
  {
   "cell_type": "code",
   "execution_count": 10,
   "metadata": {},
   "outputs": [
    {
     "data": {
      "text/plain": [
       "\"I'm loving it!\""
      ]
     },
     "execution_count": 10,
     "metadata": {},
     "output_type": "execute_result"
    }
   ],
   "source": [
    "'I\\'m loving it!'\n"
   ]
  },
  {
   "cell_type": "code",
   "execution_count": 11,
   "metadata": {},
   "outputs": [
    {
     "data": {
      "text/plain": [
       "'I am loving it!'"
      ]
     },
     "execution_count": 11,
     "metadata": {},
     "output_type": "execute_result"
    }
   ],
   "source": [
    "'I am loving it!'"
   ]
  },
  {
   "cell_type": "code",
   "execution_count": 12,
   "metadata": {},
   "outputs": [
    {
     "name": "stdout",
     "output_type": "stream",
     "text": [
      "Hello!How Are You?\n"
     ]
    }
   ],
   "source": [
    "str1 = \"Hello!\" + \"How Are You?\"\n",
    "print(str1)"
   ]
  },
  {
   "cell_type": "code",
   "execution_count": 13,
   "metadata": {},
   "outputs": [
    {
     "name": "stdout",
     "output_type": "stream",
     "text": [
      "Hello!Hello!Hello!\n"
     ]
    }
   ],
   "source": [
    "str2 = \"Hello!\" * 3\n",
    "print(str2)"
   ]
  },
  {
   "cell_type": "code",
   "execution_count": 14,
   "metadata": {},
   "outputs": [
    {
     "name": "stdout",
     "output_type": "stream",
     "text": [
      "Hello!Hello!Hello!Hello!Hello!Hello!Hello!Hello!Hello!Hello!Hello!Hello!Hello!Hello!Hello!Hello!Hello!Hello!Hello!Hello!Hello!Hello!Hello!Hello!Hello!Hello!Hello!Hello!Hello!Hello!Hello!Hello!Hello!Hello!Hello!Hello!Hello!Hello!Hello!Hello!Hello!Hello!Hello!Hello!Hello!Hello!Hello!Hello!Hello!Hello!Hello!Hello!Hello!Hello!Hello!Hello!Hello!Hello!Hello!Hello!Hello!Hello!Hello!Hello!Hello!Hello!Hello!Hello!Hello!Hello!Hello!Hello!Hello!Hello!Hello!Hello!Hello!Hello!Hello!Hello!Hello!Hello!Hello!Hello!Hello!Hello!Hello!Hello!Hello!Hello!Hello!Hello!Hello!Hello!Hello!Hello!Hello!Hello!Hello!Hello!\n"
     ]
    }
   ],
   "source": [
    "str2 = \"Hello!\" * 100\n",
    "print(str2)"
   ]
  },
  {
   "cell_type": "code",
   "execution_count": 15,
   "metadata": {},
   "outputs": [
    {
     "name": "stdout",
     "output_type": "stream",
     "text": [
      "Hello!\n",
      "How Are You?\n"
     ]
    }
   ],
   "source": [
    "str3 = \"Hello!\\nHow Are You?\"\n",
    "print(str3)"
   ]
  },
  {
   "cell_type": "code",
   "execution_count": 16,
   "metadata": {},
   "outputs": [
    {
     "ename": "SyntaxError",
     "evalue": "Missing parentheses in call to 'print'. Did you mean print(\"I'm\" + \" loving\" + \" it!\")? (<ipython-input-16-2ee4460feecd>, line 1)",
     "output_type": "error",
     "traceback": [
      "\u001b[1;36m  File \u001b[1;32m\"<ipython-input-16-2ee4460feecd>\"\u001b[1;36m, line \u001b[1;32m1\u001b[0m\n\u001b[1;33m    print \"I'm\" + \" loving\" + \" it!\"\u001b[0m\n\u001b[1;37m              ^\u001b[0m\n\u001b[1;31mSyntaxError\u001b[0m\u001b[1;31m:\u001b[0m Missing parentheses in call to 'print'. Did you mean print(\"I'm\" + \" loving\" + \" it!\")?\n"
     ]
    }
   ],
   "source": [
    "print \"I'm\" + \" loving\" + \" it!\"\n"
   ]
  },
  {
   "cell_type": "code",
   "execution_count": 17,
   "metadata": {},
   "outputs": [
    {
     "ename": "SyntaxError",
     "evalue": "EOL while scanning string literal (<ipython-input-17-6f0b567d6f66>, line 1)",
     "output_type": "error",
     "traceback": [
      "\u001b[1;36m  File \u001b[1;32m\"<ipython-input-17-6f0b567d6f66>\"\u001b[1;36m, line \u001b[1;32m1\u001b[0m\n\u001b[1;33m    print (\"I'm\" + \" loving\" + \" it!)\u001b[0m\n\u001b[1;37m                                     ^\u001b[0m\n\u001b[1;31mSyntaxError\u001b[0m\u001b[1;31m:\u001b[0m EOL while scanning string literal\n"
     ]
    }
   ],
   "source": [
    "print (\"I'm\" + \" loving\" + \" it!)\n",
    "       \"\n"
   ]
  },
  {
   "cell_type": "code",
   "execution_count": 18,
   "metadata": {},
   "outputs": [
    {
     "name": "stdout",
     "output_type": "stream",
     "text": [
      "I'm loving it!\n"
     ]
    }
   ],
   "source": [
    "print (\"I'm\" + \" loving\" + \" it!\")"
   ]
  },
  {
   "cell_type": "code",
   "execution_count": 19,
   "metadata": {},
   "outputs": [
    {
     "name": "stdout",
     "output_type": "stream",
     "text": [
      "I'm loving it!!!\n"
     ]
    }
   ],
   "source": [
    "print(\"I'm loving it\" + \"!\" * 3) "
   ]
  },
  {
   "cell_type": "code",
   "execution_count": 20,
   "metadata": {},
   "outputs": [
    {
     "name": "stdout",
     "output_type": "stream",
     "text": [
      "A\n"
     ]
    }
   ],
   "source": [
    "str = \"ABCDEFGHIJK\"\n",
    "print(str[0])"
   ]
  },
  {
   "cell_type": "code",
   "execution_count": 21,
   "metadata": {},
   "outputs": [
    {
     "name": "stdout",
     "output_type": "stream",
     "text": [
      "J\n"
     ]
    }
   ],
   "source": [
    "print(str[-2])"
   ]
  },
  {
   "cell_type": "code",
   "execution_count": 22,
   "metadata": {},
   "outputs": [
    {
     "name": "stdout",
     "output_type": "stream",
     "text": [
      "ACEG\n"
     ]
    }
   ],
   "source": [
    "print(str[:7:2])"
   ]
  },
  {
   "cell_type": "code",
   "execution_count": 23,
   "metadata": {},
   "outputs": [
    {
     "name": "stdout",
     "output_type": "stream",
     "text": [
      "CEGIK\n"
     ]
    }
   ],
   "source": [
    "print(str[2::2])"
   ]
  },
  {
   "cell_type": "code",
   "execution_count": 24,
   "metadata": {},
   "outputs": [
    {
     "name": "stdout",
     "output_type": "stream",
     "text": [
      "ACEGIK\n"
     ]
    }
   ],
   "source": [
    "print(str[::2])"
   ]
  },
  {
   "cell_type": "code",
   "execution_count": 25,
   "metadata": {},
   "outputs": [
    {
     "ename": "SyntaxError",
     "evalue": "EOL while scanning string literal (<ipython-input-25-85f7e219846c>, line 3)",
     "output_type": "error",
     "traceback": [
      "\u001b[1;36m  File \u001b[1;32m\"<ipython-input-25-85f7e219846c>\"\u001b[1;36m, line \u001b[1;32m3\u001b[0m\n\u001b[1;33m    print(str1.split( '\u001b[0m\n\u001b[1;37m                        ^\u001b[0m\n\u001b[1;31mSyntaxError\u001b[0m\u001b[1;31m:\u001b[0m EOL while scanning string literal\n"
     ]
    }
   ],
   "source": [
    "str1 = \"Do \\none \\nthing \\nat a time!\"\n",
    "print(str1.split())\n",
    "print(str1.split( ' "
   ]
  },
  {
   "cell_type": "code",
   "execution_count": 26,
   "metadata": {},
   "outputs": [
    {
     "name": "stdout",
     "output_type": "stream",
     "text": [
      "['Do', 'one', 'thing', 'at', 'a', 'time!']\n"
     ]
    }
   ],
   "source": [
    "str1 = \"Do \\none \\nthing \\nat a time!\"\n",
    "print(str1.split())"
   ]
  },
  {
   "cell_type": "code",
   "execution_count": 27,
   "metadata": {},
   "outputs": [
    {
     "name": "stdout",
     "output_type": "stream",
     "text": [
      "The first wealth is health! Health is important!,長度是48\n"
     ]
    }
   ],
   "source": [
    "str = \"The first wealth is health! Health is important!\"\n",
    "print (\"{},長度是{}\" .format(str, len(str)))"
   ]
  },
  {
   "cell_type": "code",
   "execution_count": 28,
   "metadata": {},
   "outputs": [
    {
     "name": "stdout",
     "output_type": "stream",
     "text": [
      "THE FIRST WEALTH IS HEALTH! HEALTH IS IMPORTANT!\n",
      "the first wealth is health! health is important!\n",
      "Health\n"
     ]
    }
   ],
   "source": [
    "print(str.upper())\n",
    "print(str.lower())\n",
    "print(\"health\".capitalize())"
   ]
  },
  {
   "cell_type": "code",
   "execution_count": 29,
   "metadata": {},
   "outputs": [
    {
     "data": {
      "text/plain": [
       "False"
      ]
     },
     "execution_count": 29,
     "metadata": {},
     "output_type": "execute_result"
    }
   ],
   "source": [
    "str.islower()"
   ]
  },
  {
   "cell_type": "code",
   "execution_count": 30,
   "metadata": {},
   "outputs": [
    {
     "data": {
      "text/plain": [
       "1"
      ]
     },
     "execution_count": 30,
     "metadata": {},
     "output_type": "execute_result"
    }
   ],
   "source": [
    "str.count(\"health\")"
   ]
  },
  {
   "cell_type": "code",
   "execution_count": 31,
   "metadata": {},
   "outputs": [
    {
     "data": {
      "text/plain": [
       "'The first wealth is health! Health is important'"
      ]
     },
     "execution_count": 31,
     "metadata": {},
     "output_type": "execute_result"
    }
   ],
   "source": [
    "str.strip(\"h!\")"
   ]
  },
  {
   "cell_type": "code",
   "execution_count": 32,
   "metadata": {},
   "outputs": [
    {
     "data": {
      "text/plain": [
       "'The first wealth is health! Health is 重要!'"
      ]
     },
     "execution_count": 32,
     "metadata": {},
     "output_type": "execute_result"
    }
   ],
   "source": [
    "str.replace(\"important\", \"重要\")"
   ]
  },
  {
   "cell_type": "code",
   "execution_count": 33,
   "metadata": {},
   "outputs": [
    {
     "data": {
      "text/plain": [
       "list"
      ]
     },
     "execution_count": 33,
     "metadata": {},
     "output_type": "execute_result"
    }
   ],
   "source": [
    "genre = \"sitcom\"\n",
    "no_of_episodes = 236\n",
    "still_airing = False\n",
    "friends = [genre, no_of_episodes, still_airing]\n",
    "friends\n",
    "type(friends)"
   ]
  },
  {
   "cell_type": "code",
   "execution_count": 34,
   "metadata": {},
   "outputs": [],
   "source": [
    "team_name = \"Chicago Bulls\"\n",
    "wins = 72\n",
    "losses = 10\n",
    "win_percentage = wins / (wins + losses)\n",
    "is_champion = True\n",
    "chicago_bulls = [team_name, wins, losses, win_percentage, is_champion]"
   ]
  },
  {
   "cell_type": "code",
   "execution_count": 35,
   "metadata": {},
   "outputs": [
    {
     "ename": "NameError",
     "evalue": "name 'fruitlist' is not defined",
     "output_type": "error",
     "traceback": [
      "\u001b[1;31m---------------------------------------------------------------------------\u001b[0m",
      "\u001b[1;31mNameError\u001b[0m                                 Traceback (most recent call last)",
      "\u001b[1;32m<ipython-input-35-74426d84aebd>\u001b[0m in \u001b[0;36m<module>\u001b[1;34m()\u001b[0m\n\u001b[0;32m      1\u001b[0m \u001b[0mfrunitlist\u001b[0m \u001b[1;33m=\u001b[0m \u001b[1;33m[\u001b[0m\u001b[1;34m\"Apple\"\u001b[0m\u001b[1;33m,\u001b[0m \u001b[1;34m\"Orange\"\u001b[0m\u001b[1;33m,\u001b[0m \u001b[1;34m\"Lemon\"\u001b[0m\u001b[1;33m]\u001b[0m\u001b[1;33m\u001b[0m\u001b[0m\n\u001b[1;32m----> 2\u001b[1;33m \u001b[0mprint\u001b[0m\u001b[1;33m(\u001b[0m\u001b[0mlen\u001b[0m\u001b[1;33m(\u001b[0m\u001b[0mfruitlist\u001b[0m\u001b[1;33m)\u001b[0m\u001b[1;33m)\u001b[0m\u001b[1;33m\u001b[0m\u001b[0m\n\u001b[0m\u001b[0;32m      3\u001b[0m \u001b[0mfruitlist\u001b[0m\u001b[1;33m[\u001b[0m\u001b[1;36m1\u001b[0m\u001b[1;33m]\u001b[0m \u001b[1;33m=\u001b[0m\u001b[1;34m\"Kiwi\"\u001b[0m\u001b[1;33m\u001b[0m\u001b[0m\n",
      "\u001b[1;31mNameError\u001b[0m: name 'fruitlist' is not defined"
     ]
    }
   ],
   "source": [
    "frunitlist = [\"Apple\", \"Orange\", \"Lemon\"]\n",
    "print(len(fruitlist))\n",
    "fruitlist[1] =\"Kiwi\""
   ]
  },
  {
   "cell_type": "code",
   "execution_count": 36,
   "metadata": {},
   "outputs": [
    {
     "ename": "NameError",
     "evalue": "name 'fruitlist' is not defined",
     "output_type": "error",
     "traceback": [
      "\u001b[1;31m---------------------------------------------------------------------------\u001b[0m",
      "\u001b[1;31mNameError\u001b[0m                                 Traceback (most recent call last)",
      "\u001b[1;32m<ipython-input-36-e0e8cf928ec7>\u001b[0m in \u001b[0;36m<module>\u001b[1;34m()\u001b[0m\n\u001b[1;32m----> 1\u001b[1;33m \u001b[0mfruitlist\u001b[0m\u001b[1;33m.\u001b[0m\u001b[0mappend\u001b[0m\u001b[1;33m(\u001b[0m\u001b[1;34m\"Mongo\"\u001b[0m\u001b[1;33m)\u001b[0m\u001b[1;33m\u001b[0m\u001b[0m\n\u001b[0m",
      "\u001b[1;31mNameError\u001b[0m: name 'fruitlist' is not defined"
     ]
    }
   ],
   "source": [
    "fruitlist.append(\"Mongo\")"
   ]
  },
  {
   "cell_type": "code",
   "execution_count": 37,
   "metadata": {},
   "outputs": [
    {
     "ename": "NameError",
     "evalue": "name 'fruiutlist' is not defined",
     "output_type": "error",
     "traceback": [
      "\u001b[1;31m---------------------------------------------------------------------------\u001b[0m",
      "\u001b[1;31mNameError\u001b[0m                                 Traceback (most recent call last)",
      "\u001b[1;32m<ipython-input-37-f0a02e66131e>\u001b[0m in \u001b[0;36m<module>\u001b[1;34m()\u001b[0m\n\u001b[1;32m----> 1\u001b[1;33m \u001b[0mfruiutlist\u001b[0m\u001b[1;33m.\u001b[0m\u001b[0minsert\u001b[0m\u001b[1;33m(\u001b[0m\u001b[1;36m1\u001b[0m\u001b[1;33m,\u001b[0m \u001b[1;34m\"banana\"\u001b[0m\u001b[1;33m)\u001b[0m\u001b[1;33m\u001b[0m\u001b[0m\n\u001b[0m\u001b[0;32m      2\u001b[0m \u001b[0mfruitlist\u001b[0m\u001b[1;33m.\u001b[0m\u001b[0mremove\u001b[0m\u001b[1;33m(\u001b[0m\u001b[1;34m\"Orange\"\u001b[0m\u001b[1;33m)\u001b[0m\u001b[1;33m\u001b[0m\u001b[0m\n",
      "\u001b[1;31mNameError\u001b[0m: name 'fruiutlist' is not defined"
     ]
    }
   ],
   "source": [
    "fruiutlist.insert(1, \"banana\")\n",
    "fruitlist.remove(\"Orange\")"
   ]
  },
  {
   "cell_type": "code",
   "execution_count": 38,
   "metadata": {},
   "outputs": [
    {
     "data": {
      "text/plain": [
       "['Matt LeBlanc', 'Matthew Perry', 'David Schwimmer']"
      ]
     },
     "execution_count": 38,
     "metadata": {},
     "output_type": "execute_result"
    }
   ],
   "source": [
    "starrings = [\"Jennifer Aniston\", \"Courteney Cox\", \"Lisa Kudrow\", \"Matt LeBlanc\", \"Matthew Perry\", \"David Schwimmer\"]\n",
    "starrings[0]\n",
    "starrings[-1]\n",
    "starrings[:3]\n",
    "starrings[3:]"
   ]
  },
  {
   "cell_type": "code",
   "execution_count": 39,
   "metadata": {},
   "outputs": [
    {
     "data": {
      "text/plain": [
       "bool"
      ]
     },
     "execution_count": 39,
     "metadata": {},
     "output_type": "execute_result"
    }
   ],
   "source": [
    "genre = \"sitcom\"\n",
    "no_of_episodes = 236\n",
    "still_airing = False\n",
    "friends = [genre, no_of_episodes, still_airing]\n",
    "type(friends[0])\n",
    "type(friends[1])\n",
    "type(friends[2])"
   ]
  },
  {
   "cell_type": "code",
   "execution_count": 40,
   "metadata": {},
   "outputs": [],
   "source": [
    "team_name = \"Chicago Bulls\"\n",
    "wins = 72\n",
    "losses = 10\n",
    "win_percentage = wins / (wins + losses)\n",
    "is_champion = True\n",
    "chicago_bulls_list = [team_name, wins, losses, win_percentage, is_champion]\n",
    "chicago_bulls_tuple = (team_name, wins, losses, win_percentage, is_champion)"
   ]
  },
  {
   "cell_type": "code",
   "execution_count": 41,
   "metadata": {},
   "outputs": [
    {
     "data": {
      "text/plain": [
       "tuple"
      ]
     },
     "execution_count": 41,
     "metadata": {},
     "output_type": "execute_result"
    }
   ],
   "source": [
    "starrings_list = [\"Jennifer Aniston\", \"Courteney Cox\", \"Lisa Kudrow\", \"Matt LeBlanc\", \"Matthew Perry\", \"David Schwimmer\"]\n",
    "starrings_tuple = tuple(starrings_list)\n",
    "starrings_tuple\n",
    "type(starrings_tuple)"
   ]
  },
  {
   "cell_type": "code",
   "execution_count": 42,
   "metadata": {},
   "outputs": [],
   "source": [
    "team_name = \"Chicago Bulls\"\n",
    "wins = 72\n",
    "losses = 10\n",
    "win_percentage = wins / (wins + losses)\n",
    "is_champion = True\n",
    "chicago_bulls_list = [team_name, wins, losses, win_percentage, is_champion]\n",
    "chicago_bulls_tuple = (team_name, wins, losses, win_percentage, is_champion)\n",
    "#或 chicago_bulls_tuple = tuple(chicago_bulls_list)"
   ]
  },
  {
   "cell_type": "code",
   "execution_count": 43,
   "metadata": {},
   "outputs": [
    {
     "data": {
      "text/plain": [
       "set"
      ]
     },
     "execution_count": 43,
     "metadata": {},
     "output_type": "execute_result"
    }
   ],
   "source": [
    "gender_list = [\"female\", \"female\", \"female\", \"male\", \"male\", \"male\"]\n",
    "gender_set = set(gender_list)\n",
    "gender_set\n",
    "type(gender_set)"
   ]
  },
  {
   "cell_type": "code",
   "execution_count": 44,
   "metadata": {},
   "outputs": [
    {
     "data": {
      "text/plain": [
       "set"
      ]
     },
     "execution_count": 44,
     "metadata": {},
     "output_type": "execute_result"
    }
   ],
   "source": [
    "gender_set = {\"female\", \"female\", \"female\", \"male\", \"male\", \"male\"}\n",
    "gender_set\n",
    "type(gender_set)"
   ]
  },
  {
   "cell_type": "code",
   "execution_count": 45,
   "metadata": {},
   "outputs": [
    {
     "name": "stdout",
     "output_type": "stream",
     "text": [
      "{'dog', 'cat'}\n",
      "{'cat', 'dog', 'turtle', 'bird', 'wolf', 'pig'}\n",
      "{'bird', 'pig'}\n",
      "{'turtle', 'bird', 'wolf', 'pig'}\n"
     ]
    }
   ],
   "source": [
    "zooA ={\"bird\" , \"cat\" , \"dog\" , \"pig\"}\n",
    "zooB ={\"wolf\" , \"cat\", \"dog\" , \"turtle\"}\n",
    "print(zooA & zooB)\n",
    "print(zooA | zooB)\n",
    "print(zooA - zooB)\n",
    "print(zooA ^ zooB)"
   ]
  },
  {
   "cell_type": "code",
   "execution_count": 47,
   "metadata": {},
   "outputs": [
    {
     "ename": "SyntaxError",
     "evalue": "Missing parentheses in call to 'print'. Did you mean print(starrings[0])? (<ipython-input-47-50541ff5be24>, line 2)",
     "output_type": "error",
     "traceback": [
      "\u001b[1;36m  File \u001b[1;32m\"<ipython-input-47-50541ff5be24>\"\u001b[1;36m, line \u001b[1;32m2\u001b[0m\n\u001b[1;33m    print starrings[0]\u001b[0m\n\u001b[1;37m                  ^\u001b[0m\n\u001b[1;31mSyntaxError\u001b[0m\u001b[1;31m:\u001b[0m Missing parentheses in call to 'print'. Did you mean print(starrings[0])?\n"
     ]
    }
   ],
   "source": [
    "starrings = [\"Jennifer Aniston\", \"Courteney Cox\", \"Lisa Kudrow\", \"Matt LeBlanc\", \"Matthew Perry\", \"David Schwimmer\"]\n",
    "print starrings[0]"
   ]
  },
  {
   "cell_type": "code",
   "execution_count": 48,
   "metadata": {},
   "outputs": [
    {
     "ename": "SyntaxError",
     "evalue": "Missing parentheses in call to 'print'. Did you mean print(starrings[1])? (<ipython-input-48-5bb302f58e42>, line 1)",
     "output_type": "error",
     "traceback": [
      "\u001b[1;36m  File \u001b[1;32m\"<ipython-input-48-5bb302f58e42>\"\u001b[1;36m, line \u001b[1;32m1\u001b[0m\n\u001b[1;33m    print starrings[1]\u001b[0m\n\u001b[1;37m                  ^\u001b[0m\n\u001b[1;31mSyntaxError\u001b[0m\u001b[1;31m:\u001b[0m Missing parentheses in call to 'print'. Did you mean print(starrings[1])?\n"
     ]
    }
   ],
   "source": [
    "print starrings[1]"
   ]
  },
  {
   "cell_type": "code",
   "execution_count": 49,
   "metadata": {},
   "outputs": [
    {
     "ename": "SyntaxError",
     "evalue": "unexpected EOF while parsing (<ipython-input-49-b4868d9b5916>, line 2)",
     "output_type": "error",
     "traceback": [
      "\u001b[1;36m  File \u001b[1;32m\"<ipython-input-49-b4868d9b5916>\"\u001b[1;36m, line \u001b[1;32m2\u001b[0m\n\u001b[1;33m    for i in range(len(starrings)):\u001b[0m\n\u001b[1;37m                                   ^\u001b[0m\n\u001b[1;31mSyntaxError\u001b[0m\u001b[1;31m:\u001b[0m unexpected EOF while parsing\n"
     ]
    }
   ],
   "source": [
    "starrings = [\"Jennifer Aniston\", \"Courteney Cox\", \"Lisa Kudrow\", \"Matt LeBlanc\", \"Matthew Perry\", \"David Schwimmer\"]\n",
    "for i in range(len(starrings)):"
   ]
  },
  {
   "cell_type": "code",
   "execution_count": 50,
   "metadata": {},
   "outputs": [
    {
     "ename": "SyntaxError",
     "evalue": "invalid syntax (<ipython-input-50-52b01b25e3a9>, line 3)",
     "output_type": "error",
     "traceback": [
      "\u001b[1;36m  File \u001b[1;32m\"<ipython-input-50-52b01b25e3a9>\"\u001b[1;36m, line \u001b[1;32m3\u001b[0m\n\u001b[1;33m    print \"%i: %s\" % (index, starring)\u001b[0m\n\u001b[1;37m                 ^\u001b[0m\n\u001b[1;31mSyntaxError\u001b[0m\u001b[1;31m:\u001b[0m invalid syntax\n"
     ]
    }
   ],
   "source": [
    "starrings = [\"Jennifer Aniston\", \"Courteney Cox\", \"Lisa Kudrow\", \"Matt LeBlanc\", \"Matthew Perry\", \"David Schwimmer\"]\n",
    "for (index, starring) in enumerate(starrings):\n",
    " print \"%i: %s\" % (index, starring)"
   ]
  },
  {
   "cell_type": "code",
   "execution_count": null,
   "metadata": {},
   "outputs": [],
   "source": []
  }
 ],
 "metadata": {
  "kernelspec": {
   "display_name": "Python 3",
   "language": "python",
   "name": "python3"
  },
  "language_info": {
   "codemirror_mode": {
    "name": "ipython",
    "version": 3
   },
   "file_extension": ".py",
   "mimetype": "text/x-python",
   "name": "python",
   "nbconvert_exporter": "python",
   "pygments_lexer": "ipython3",
   "version": "3.6.5"
  }
 },
 "nbformat": 4,
 "nbformat_minor": 2
}
